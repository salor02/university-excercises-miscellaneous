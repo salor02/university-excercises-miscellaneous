{
 "cells": [
  {
   "cell_type": "code",
   "execution_count": null,
   "id": "19a8e4c1",
   "metadata": {},
   "outputs": [],
   "source": [
    "#matplotlib inline\n",
    "import numpy as np\n",
    "import matplotlib.pyplot as plt\n",
    "import seaborn as sns; sns.set()\n",
    "import warnings\n",
    "warnings.filterwarnings(action='ignore', category=FutureWarning)"
   ]
  },
  {
   "cell_type": "markdown",
   "id": "39b87055",
   "metadata": {},
   "source": [
    "---\n",
    "# Clustering"
   ]
  },
  {
   "cell_type": "code",
   "execution_count": null,
   "id": "322ee0ef",
   "metadata": {},
   "outputs": [],
   "source": [
    "from sklearn.datasets import make_blobs\n",
    "# generates groups of points arount a given number of centers\n",
    "# blobs are the data, y are the labels \n",
    "blobs, y = make_blobs(n_samples=1500,\n",
    "                      n_features=5,\n",
    "                      centers=5,\n",
    "                      cluster_std=4,\n",
    "                      random_state=799)\n",
    "\n",
    "print('Dataset shape:', blobs.shape)\n",
    "for label in np.unique(y):\n",
    "    print(f'Num labels equals to {label} =', sum(y == label))"
   ]
  },
  {
   "cell_type": "code",
   "execution_count": null,
   "id": "44929296",
   "metadata": {},
   "outputs": [],
   "source": [
    "from sklearn.manifold import TSNE\n",
    "# use t-SNE to reduce the dimension to 2. The projected data will be used just for visualization,\n",
    "# the clustering will be done on the original data 'blobs', in R^5\n",
    "projected = TSNE(\n",
    "    n_components=2, \n",
    "    init='pca',\n",
    "    verbose=0, \n",
    "    perplexity=30, \n",
    "    n_iter=1000,\n",
    "    random_state=12345\n",
    ").fit_transform(blobs)"
   ]
  },
  {
   "cell_type": "code",
   "execution_count": null,
   "id": "10ab80a3",
   "metadata": {},
   "outputs": [],
   "source": [
    "def plot_compare(x, y, y_pred, title):\n",
    "    \"\"\" Helper \"\"\"\n",
    "    # the position (x0, x1) of the points are the projected data\n",
    "    # the colors are the original labels or the labels of the cluster algorithm\n",
    "    plt.figure(figsize=(14, 6))\n",
    "    #define a table with 1 row, two columns, and plot the next scatter in column 1\n",
    "    plt.subplot(121)\n",
    "    # plots the predicted values (colord)\n",
    "    plt.scatter(x[:, 0], x[:, 1],\n",
    "                c=y_pred, \n",
    "                edgecolor='black', \n",
    "                alpha=0.8,\n",
    "                cmap='Accent')\n",
    "    plt.title(title)\n",
    "    plt.xlabel('component 1')\n",
    "    plt.ylabel('component 2');\n",
    "\n",
    "    #define a table with 1 row, two columns, and plot the next scatter in column 2\n",
    "    plt.subplot(122)\n",
    "    # plots the original labels (colors)\n",
    "    plt.scatter(x[:, 0], x[:, 1],\n",
    "                c=y, \n",
    "                edgecolor='black', \n",
    "                alpha=0.8,\n",
    "                cmap='Accent')\n",
    "    plt.title('True clusters')\n",
    "    plt.xlabel('component 1')\n",
    "    plt.ylabel('component 2');"
   ]
  },
  {
   "cell_type": "code",
   "execution_count": null,
   "id": "6ae87d46",
   "metadata": {},
   "outputs": [],
   "source": []
  },
  {
   "cell_type": "markdown",
   "id": "da60459a",
   "metadata": {},
   "source": [
    "----\n",
    "## K-means"
   ]
  },
  {
   "cell_type": "code",
   "execution_count": null,
   "id": "02cec245",
   "metadata": {},
   "outputs": [],
   "source": [
    "from sklearn.cluster import KMeans\n",
    "#help(KMeans)"
   ]
  },
  {
   "cell_type": "code",
   "execution_count": null,
   "id": "f7afe13d",
   "metadata": {},
   "outputs": [],
   "source": [
    "kmeans = KMeans(n_clusters=5,\n",
    "                max_iter=500,\n",
    "                verbose=0).fit(blobs)\n",
    "\n",
    "print(f'Inertia = {kmeans.inertia_:.5f}')"
   ]
  },
  {
   "cell_type": "code",
   "execution_count": null,
   "id": "3699e4c1",
   "metadata": {},
   "outputs": [],
   "source": [
    "plot_compare(projected, y, kmeans.labels_, 'K-means clusters')"
   ]
  },
  {
   "cell_type": "code",
   "execution_count": null,
   "id": "522a8b29",
   "metadata": {},
   "outputs": [],
   "source": [
    "def find_wrong(labels, y):\n",
    "    \"\"\"\n",
    "    \n",
    "    Args:\n",
    "        :param labels: labels given by the clustering algorithm.\n",
    "        :param y: true labels.\n",
    "    \"\"\"\n",
    "    mapped_labels = labels.copy()\n",
    "    mapped_labels2 = labels.copy()\n",
    "    for alg_label in np.unique(labels):\n",
    "        # finds the true values associated to the value 'alg_label' given by the algorith,\n",
    "        vals, counts = np.unique(y[labels == alg_label], return_counts=True)\n",
    "        # we select as correct label the most frequent one, \n",
    "        # by supposing that the clustering algorithm make some error, but not so many\n",
    "        correct_cluster = vals[np.argmax(counts)]\n",
    "        # we give the correct label to all the elements with value alg_label \n",
    "        mapped_labels[labels == alg_label] = correct_cluster\n",
    "    return y != mapped_labels"
   ]
  },
  {
   "cell_type": "code",
   "execution_count": null,
   "id": "ba149115",
   "metadata": {},
   "outputs": [],
   "source": [
    "plt.figure(figsize=(12, 8))\n",
    "plt.scatter(projected[:, 0], projected[:, 1],\n",
    "            c=y, \n",
    "            edgecolor='black', \n",
    "            alpha=0.6,\n",
    "            cmap='Accent')\n",
    "\n",
    "wrong = find_wrong(kmeans.labels_, y)\n",
    "print(f'Number of wrong points {sum(wrong)}/{len(y)}')\n",
    "plt.scatter(projected[wrong, 0], projected[wrong, 1],\n",
    "            c='red', \n",
    "            edgecolor='black', \n",
    "            alpha=1)\n",
    "\n",
    "plt.title('Wrong points')\n",
    "plt.xlabel('component 1')\n",
    "plt.ylabel('component 2');"
   ]
  },
  {
   "cell_type": "code",
   "execution_count": null,
   "id": "2c79dfa1",
   "metadata": {},
   "outputs": [],
   "source": [
    "random_state = 12345"
   ]
  },
  {
   "cell_type": "markdown",
   "id": "ee61c6a9",
   "metadata": {},
   "source": [
    "### How many clusters?\n",
    "\n",
    "The number of clusters is an input parameter to the k-means algorithm. \n",
    "To select the best value we can perform several experiments using a structured method as the  **elbow method**. <br>\n",
    "\n",
    "In this method you have to run several k-means by incrementing k with each iteration.\n",
    "At the end of each iteration you have to record (and plot) the intertia.<br>\n",
    "\n",
    "There’s a sweet spot where the Inertia curve starts to bend known as the **elbow point**. The x-value of this point is thought to be a reasonable trade-off between error and number of clusters."
   ]
  },
  {
   "cell_type": "code",
   "execution_count": null,
   "id": "7d058298",
   "metadata": {},
   "outputs": [],
   "source": [
    "inertias = []\n",
    "clusters = []\n",
    "# try from 2 to 9 clusters\n",
    "for num_clusters in range(2, 10):\n",
    "    kmeans_ = KMeans(n_clusters=num_clusters, \n",
    "                     max_iter=500, \n",
    "                     verbose=0, \n",
    "                     random_state=12345).fit(blobs)\n",
    "    inertias.append(kmeans_.inertia_)\n",
    "    clusters.append(num_clusters)"
   ]
  },
  {
   "cell_type": "code",
   "execution_count": null,
   "id": "949303f5",
   "metadata": {},
   "outputs": [],
   "source": [
    "plt.figure(figsize=(6, 6))\n",
    "plt.plot(clusters, inertias)\n",
    "\n",
    "plt.xlabel('Number of clusters')\n",
    "plt.ylabel('Inertia')\n",
    "plt.title('Elbow method');"
   ]
  },
  {
   "cell_type": "markdown",
   "id": "fa79dbb8",
   "metadata": {},
   "source": [
    "In this case 5 seems to be a good value "
   ]
  },
  {
   "cell_type": "markdown",
   "id": "0b0e8b94",
   "metadata": {},
   "source": [
    "---\n",
    "## Agglomerative"
   ]
  },
  {
   "cell_type": "code",
   "execution_count": null,
   "id": "86d5c97b",
   "metadata": {},
   "outputs": [],
   "source": [
    "from sklearn.cluster import AgglomerativeClustering\n",
    "#help(AgglomerativeClustering)"
   ]
  },
  {
   "cell_type": "code",
   "execution_count": null,
   "id": "b3ebd782",
   "metadata": {},
   "outputs": [],
   "source": [
    "agglo = AgglomerativeClustering(\n",
    "    affinity='euclidean',\n",
    "    linkage='ward',\n",
    "    #distance_threshold=0.0001, n_clusters=None\n",
    "    n_clusters=5\n",
    ")\n",
    "\n",
    "y_pred = agglo.fit_predict(blobs)"
   ]
  },
  {
   "cell_type": "code",
   "execution_count": null,
   "id": "c6ba022d",
   "metadata": {},
   "outputs": [],
   "source": [
    "plot_compare(projected, y, y_pred, 'Agglomerative clusters')"
   ]
  },
  {
   "cell_type": "code",
   "execution_count": null,
   "id": "d4ad54b8",
   "metadata": {},
   "outputs": [],
   "source": [
    "y_pred"
   ]
  },
  {
   "cell_type": "code",
   "execution_count": null,
   "id": "d705d7fa",
   "metadata": {},
   "outputs": [],
   "source": [
    "plt.figure(figsize=(12, 8))\n",
    "plt.scatter(projected[:, 0], projected[:, 1],\n",
    "            c=y, \n",
    "            edgecolor='black', \n",
    "            alpha=0.4,\n",
    "            cmap='Accent')\n",
    "\n",
    "wrong = find_wrong(y_pred, y)\n",
    "print(f'Number of wrong points {sum(wrong)}/{len(y)}')\n",
    "plt.scatter(projected[wrong, 0], projected[wrong, 1],\n",
    "            c='red', \n",
    "            edgecolor='black', \n",
    "            alpha=1)\n",
    "\n",
    "plt.title('Wrong points')\n",
    "plt.xlabel('component 1')\n",
    "plt.ylabel('component 2');"
   ]
  },
  {
   "cell_type": "markdown",
   "id": "bc20fa93",
   "metadata": {},
   "source": [
    "---\n",
    "## Ex: compare the effect of different linkage metrics\n",
    "\n",
    "Use different linkage metrics and see what happen to the clusters."
   ]
  },
  {
   "cell_type": "code",
   "execution_count": null,
   "id": "5772de03",
   "metadata": {},
   "outputs": [],
   "source": [
    "from sklearn.datasets import make_circles\n",
    "\n",
    "x_circles, y_circles = make_circles(n_samples=1500, \n",
    "                                    factor=0.5, \n",
    "                                    noise=0.05)"
   ]
  },
  {
   "cell_type": "code",
   "execution_count": null,
   "id": "be737edc",
   "metadata": {},
   "outputs": [],
   "source": []
  }
 ],
 "metadata": {
  "kernelspec": {
   "display_name": "Python 3 (ipykernel)",
   "language": "python",
   "name": "python3"
  },
  "language_info": {
   "codemirror_mode": {
    "name": "ipython",
    "version": 3
   },
   "file_extension": ".py",
   "mimetype": "text/x-python",
   "name": "python",
   "nbconvert_exporter": "python",
   "pygments_lexer": "ipython3",
   "version": "3.11.5"
  }
 },
 "nbformat": 4,
 "nbformat_minor": 5
}
