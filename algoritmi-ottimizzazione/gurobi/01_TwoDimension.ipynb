{
 "cells": [
  {
   "cell_type": "markdown",
   "metadata": {},
   "source": [
    "# This is a simple introduction to use of Gurobi MILP solver.\n",
    "\n",
    "Consider the following linear problem\n",
    "$$\\begin{array}{ll}\n",
    "\\max &4x_1+5x_2\\\\\n",
    "&-6x_1+10x_2\\le 25\\\\\n",
    "&2x_1+x_2\\le 16\\\\\n",
    "&x_2\\le 5\\\\\n",
    "&x_1,x_2\\ge 0\n",
    "\\end{array}\n",
    "$$\n"
   ]
  },
  {
   "cell_type": "markdown",
   "metadata": {},
   "source": [
    "## We can obtaint the optimal solution graphically\n",
    "<img src=\"Gurobi01.jpg\" alt=\"Drawing\" style=\"width: 600px;\"/>\n"
   ]
  },
  {
   "cell_type": "code",
   "execution_count": 10,
   "metadata": {},
   "outputs": [],
   "source": [
    "# setup the Gurobi environment\n",
    "import gurobipy as gp\n",
    "from gurobipy import GRB"
   ]
  },
  {
   "cell_type": "code",
   "execution_count": null,
   "metadata": {},
   "outputs": [],
   "source": [
    "# create your model\n",
    "m = gp.Model(\"example01_a\")\n",
    "m.reset()"
   ]
  },
  {
   "cell_type": "code",
   "execution_count": 4,
   "metadata": {},
   "outputs": [],
   "source": [
    "# Create variables\n",
    "x1 = m.addVar(vtype=GRB.CONTINUOUS, name=\"x1\")\n",
    "x2 = m.addVar(vtype=GRB.CONTINUOUS, name=\"x2\")"
   ]
  },
  {
   "cell_type": "code",
   "execution_count": 5,
   "metadata": {},
   "outputs": [],
   "source": [
    "# Set objective\n",
    "m.setObjective(4*x1 + 5*x2, GRB.MAXIMIZE)"
   ]
  },
  {
   "cell_type": "code",
   "execution_count": null,
   "metadata": {},
   "outputs": [],
   "source": [
    "# Add constraints\n",
    "m.addConstr(-6*x1+10*x2 <= 25, \"c1\")\n",
    "m.addConstr(2*x1+x2 <= 16, \"c2\")\n",
    "m.addConstr(x2 <= 5, \"c3\")\n"
   ]
  },
  {
   "cell_type": "code",
   "execution_count": null,
   "metadata": {},
   "outputs": [],
   "source": [
    "# Optimize model\n",
    "m.optimize()"
   ]
  },
  {
   "cell_type": "code",
   "execution_count": null,
   "metadata": {},
   "outputs": [],
   "source": [
    "# Output results\n",
    "print('Obj: %g' % m.objVal)\n",
    "\n",
    "for v in m.getVars():\n",
    "    print('%s %g' % (v.varName, v.x))\n",
    "\n"
   ]
  },
  {
   "cell_type": "code",
   "execution_count": 9,
   "metadata": {},
   "outputs": [],
   "source": [
    "# writing your model to a text file\n",
    "m.write(\"example01_a.lp\")"
   ]
  },
  {
   "cell_type": "markdown",
   "metadata": {},
   "source": [
    "\\ Model example01<br>\n",
    "\\ LP format - for model browsing. Use MPS format to capture full model detail.<br>\n",
    "Maximize<br>\n",
    "&nbsp;&nbsp;&nbsp;  4 x1 + 5 x2<br>\n",
    "Subject To<br>\n",
    "&nbsp;&nbsp;&nbsp;c1: - 6 x1 + 10 x2 <= 25<br>\n",
    "&nbsp;&nbsp;&nbsp;c2: 2 x1 + x2 <= 16<br>\n",
    "&nbsp;&nbsp;&nbsp;c3: x2 <= 5<br>\n",
    "Bounds<br>\n",
    "Generals<br>\n",
    " x1 x2<br>\n",
    "End<br>"
   ]
  },
  {
   "cell_type": "code",
   "execution_count": 10,
   "metadata": {},
   "outputs": [],
   "source": [
    "# Switching to an integer program (x1, x2 must assume integer values)\n",
    "x1.setAttr(GRB.Attr.VType, GRB.INTEGER)\n",
    "x2.setAttr(GRB.Attr.VType, GRB.INTEGER)"
   ]
  },
  {
   "cell_type": "code",
   "execution_count": null,
   "metadata": {},
   "outputs": [],
   "source": [
    "# Optimize MIP model\n",
    "m.optimize()"
   ]
  },
  {
   "cell_type": "code",
   "execution_count": null,
   "metadata": {},
   "outputs": [],
   "source": [
    "# Output MIP results\n",
    "print('Obj: %g' % m.objVal)\n",
    "\n",
    "for v in m.getVars():\n",
    "    print('%s %g' % (v.varName, v.x))\n",
    "\n"
   ]
  },
  {
   "cell_type": "markdown",
   "metadata": {},
   "source": [
    "## Revise the above model by considering to represent the data with lists (sets, arrays,..)\n",
    "\n",
    "$$\\begin{array}{rrcr}\n",
    "\\max &4x_1&+5x_2\\\\\n",
    "&-6x_1&+10x_2&\\le &25\\\\\n",
    "&2x_1&+x_2&\\le &16\\\\\n",
    "&&x_2&\\le &5\\\\\n",
    "&x_1,&x_2&\\ge &0\n",
    "\\end{array}\n",
    "$$\n",
    "\n",
    "$$\n",
    "\\begin{array}{|rr|r|}\n",
    "\\hline4&5\\\\\n",
    "\\hline\n",
    "-6&10& 25\\\\\n",
    "2&1&16\\\\\n",
    "0&1&5\\\\\n",
    "\\hline\n",
    "\\end{array}\n",
    "$$\n"
   ]
  },
  {
   "cell_type": "code",
   "execution_count": null,
   "metadata": {},
   "outputs": [],
   "source": [
    "# Using lists and arrays\n",
    "m2 = gp.Model(\"Exercise01_b\")\n",
    "m2.reset()\n",
    "variableNames = ['x1','x2']\n",
    "c = [4,5]\n",
    "A = {\n",
    "      (0,0): -6, (0,1): 10,\n",
    "      (1,0):  2, (1,1):  1,\n",
    "      (2,0):  0, (2,1):  1\n",
    "}\n",
    "b = [25, 16, 5]"
   ]
  },
  {
   "cell_type": "code",
   "execution_count": 20,
   "metadata": {},
   "outputs": [],
   "source": [
    "# add variables with names given in 'varNames' \n",
    "x = m2.addVars(range(len(variableNames)), vtype=GRB.CONTINUOUS, name=variableNames)"
   ]
  },
  {
   "cell_type": "code",
   "execution_count": 21,
   "metadata": {},
   "outputs": [],
   "source": [
    "# add objective function\n",
    "m2.setObjective(x.prod(c), GRB.MAXIMIZE)"
   ]
  },
  {
   "cell_type": "code",
   "execution_count": 22,
   "metadata": {},
   "outputs": [],
   "source": [
    "# add constraints\n",
    "# corrisponde alla sommatoria da j[0:n-1] di A[i][j]*x[j]<=b[i] per i[0:m-1] dove n è il numero di colonne e m il numero di righe\n",
    "m2.addConstrs( gp.quicksum(A[i,j] * x[j] for j in range(len(x)) ) <= b[i] for i in range(len(b)) )\n",
    "\n",
    "m2.write(\"Example01_b.lp\")"
   ]
  },
  {
   "cell_type": "code",
   "execution_count": null,
   "metadata": {},
   "outputs": [],
   "source": [
    "m2.optimize()"
   ]
  },
  {
   "cell_type": "code",
   "execution_count": null,
   "metadata": {},
   "outputs": [],
   "source": [
    "# Output\n",
    "print('Obj: %g' % m2.objVal)\n",
    "\n",
    "for v in m2.getVars():\n",
    "    print('%s %g' % (v.varName, v.x))\n",
    "    \n",
    "for c in m2.getConstrs():\n",
    "    print('slack= %g  rhs= %g' % (c.Slack, c.RHS))\n"
   ]
  },
  {
   "cell_type": "code",
   "execution_count": null,
   "metadata": {},
   "outputs": [],
   "source": [
    "for v in m2.getVars(): \n",
    "    v.setAttr(GRB.Attr.VType, GRB.INTEGER)"
   ]
  },
  {
   "cell_type": "code",
   "execution_count": null,
   "metadata": {},
   "outputs": [],
   "source": [
    "m2.write(\"Example01_c.lp\")"
   ]
  },
  {
   "cell_type": "code",
   "execution_count": null,
   "metadata": {},
   "outputs": [],
   "source": [
    "m2.optimize()"
   ]
  },
  {
   "cell_type": "code",
   "execution_count": null,
   "metadata": {},
   "outputs": [],
   "source": []
  }
 ],
 "metadata": {
  "celltoolbar": "Raw Cell Format",
  "kernelspec": {
   "display_name": "algoritmi-ottimizzazione-wwtSSWpE",
   "language": "python",
   "name": "python3"
  },
  "language_info": {
   "codemirror_mode": {
    "name": "ipython",
    "version": 3
   },
   "file_extension": ".py",
   "mimetype": "text/x-python",
   "name": "python",
   "nbconvert_exporter": "python",
   "pygments_lexer": "ipython3",
   "version": "3.11.2"
  }
 },
 "nbformat": 4,
 "nbformat_minor": 2
}
