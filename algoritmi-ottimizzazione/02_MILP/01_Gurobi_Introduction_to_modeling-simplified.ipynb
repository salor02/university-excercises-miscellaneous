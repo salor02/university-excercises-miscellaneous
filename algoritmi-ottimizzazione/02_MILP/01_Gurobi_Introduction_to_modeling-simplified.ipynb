{
 "cells": [
  {
   "cell_type": "markdown",
   "metadata": {
    "id": "-1RRhFvSqPTR"
   },
   "source": [
    "# Introduction to Mathematical Optimization Modeling\n",
    "(simplified version from Gurobi original example)\n",
    "\n",
    "\n",
    "## Objective and prerequisites\n",
    "The goal of this modeling example is to introduce the key components in the formulation of mixed integer programming (MIP) problems. For each component of a MIP problem formulation, we provide a description,  the associated Python code,  and the mathematical notation describing the component.\n",
    "\n",
    "To fully understand the content of this notebook, the reader should:\n",
    "\n",
    "* Be familiar with Python.\n",
    "* Have a background in any branch of engineering, computer science, economics, statistics, any branch of the “hard” sciences, or any discipline that uses quantitative models and methods.\n",
    "\n",
    "The reader should also consult the  [documentation](https://www.gurobi.com/resources/?category-filter=documentation)\n",
    "of the Gurobi Python API.\n",
    "This notebook is explained in detail in our series of tutorial videos on mixed integer linear programming.\n",
    "You can watch these videos by clicking \n",
    "[here](https://www.gurobi.com/resource/tutorial-mixed-integer-linear-programming/)\n",
    "\n",
    "**Download the Repository** <br />\n",
    "You can download the repository containing this and other examples by clicking [here](https://github.com/Gurobi/modeling-examples/archive/master.zip). \n",
    "\n",
    "## Problem description\n",
    "\n",
    "Consider a consulting company that has three open positions: Tester, Java Developer, and Architect. The three top candidates (resources) for the positions are: Carlos, Joe, and Monika. The consulting company administered competency tests to each candidate in order to assess their ability to perform each of the jobs. The results of these tests are called *matching scores*. Assume that only one candidate can be assigned to a job, and at most one job can be assigned to a candidate.\n",
    "\n",
    "The problem is to determine an assignment of resources and jobs such that each job is fulfilled, each resource is assigned to at most one job, and the total matching scores of the assignments is maximized.\n",
    "\n",
    "\n",
    "## Mathematical optimization \n",
    "\n",
    "Mathematical optimization (which is also known as mathematical programming) is a declarative approach where the modeler formulates an  optimization problem that captures the key features of a complex decision problem. The Gurobi Optimizer solves the mathematical optimization problem using state-of-the-art mathematics and computer science.\n",
    "\n",
    "A mathematical optimization model has five components:\n",
    "\n",
    "* Sets\n",
    "* Parameters\n",
    "* Decision variables\n",
    "* Constraints\n",
    "* Objective function(s)\n"
   ]
  },
  {
   "cell_type": "markdown",
   "metadata": {
    "id": "VFebf7EEqPTT"
   },
   "source": [
    "The following Python code imports the Gurobi callable library and imports the ``GRB`` class into the main namespace."
   ]
  },
  {
   "cell_type": "code",
   "execution_count": 1,
   "metadata": {
    "colab": {
     "base_uri": "https://localhost:8080/"
    },
    "id": "34iHnvqZqR4W",
    "outputId": "5f38abf7-7e37-49a8-8940-8bd3a5e4b3c1"
   },
   "outputs": [],
   "source": [
    "# pip install -i https://pypi.gurobi.com gurobipy"
   ]
  },
  {
   "cell_type": "code",
   "execution_count": 2,
   "metadata": {
    "id": "BTkEeu99qPTU"
   },
   "outputs": [],
   "source": [
    "import gurobipy as gp\n",
    "from gurobipy import GRB"
   ]
  },
  {
   "cell_type": "markdown",
   "metadata": {
    "id": "dBYLmOrhqPTU"
   },
   "source": [
    "## Resource Assignment Problem\n",
    "### Data\n",
    "The list $R$ contains the names of the three resources: Carlos, Joe, and Monika.\n",
    "\n",
    "The list $J$ contains the names of the job positions: Tester, Java Developer, and Architect.\n",
    "\n",
    "$r \\in R$: index and set of resources. The resource $r$ belongs to the set of resources $R$.\n",
    "\n",
    "$j \\in J$: index and set of jobs. The job $j$ belongs to the set of jobs $J$."
   ]
  },
  {
   "cell_type": "code",
   "execution_count": 3,
   "metadata": {
    "id": "6W7thPqJqPTV"
   },
   "outputs": [],
   "source": [
    "# Resource and job sets\n",
    "R = ['Carlos', 'Joe', 'Monika']\n",
    "J = ['Tester', 'JavaDeveloper', 'Architect']"
   ]
  },
  {
   "cell_type": "markdown",
   "metadata": {
    "id": "PgbZLRXdqPTV"
   },
   "source": [
    "# The ability of each resource to perform each of the jobs is listed in the following matching scores table:\n",
    "\n",
    "![scores](https://github.com/Gurobi/modeling-examples/blob/master/intro_to_modeling/matching_score_data.PNG?raw=1)\n",
    "\n",
    "For each resource $r$ and job $j$, there is a corresponding matching score $s$. The matching score $s$ can only take values between 0 and 100. That is, $s_{r,j} \\in [0, 100]$ for all resources $r \\in R$ and jobs $j \\in J$. \n",
    "\n",
    "The Gurobi ``multidict()`` is used to define the scores $s_{rj}$\n"
   ]
  },
  {
   "cell_type": "code",
   "execution_count": 4,
   "metadata": {
    "id": "__pbicGzqPTV"
   },
   "outputs": [],
   "source": [
    "# Matching score data\n",
    "combinations, scores = gp.multidict({\n",
    "    ('Carlos', 'Tester'): 53,\n",
    "    ('Carlos', 'JavaDeveloper'): 27,\n",
    "    ('Carlos', 'Architect'): 13,\n",
    "    ('Joe', 'Tester'): 80,\n",
    "    ('Joe', 'JavaDeveloper'): 47,\n",
    "    ('Joe', 'Architect'): 67,\n",
    "    ('Monika', 'Tester'): 53,\n",
    "    ('Monika', 'JavaDeveloper'): 73,\n",
    "    ('Monika', 'Architect'): 47\n",
    "})"
   ]
  },
  {
   "cell_type": "markdown",
   "metadata": {
    "id": "9kIaPK9ZqPTX"
   },
   "source": [
    "## Decision variables\n",
    "\n",
    "To solve this assignment problem, we need to identify which resource is assigned to which job. We introduce a decision variable for each possible assignment of resources to jobs. Therefore, we have 9 decision variables.\n",
    "\n",
    "To simplify the mathematical notation of the model formulation, we define the following indices for resources and jobs:\n",
    "\n",
    "![variables](https://github.com/Gurobi/modeling-examples/blob/master/intro_to_modeling/decision_variables.PNG?raw=1)\n",
    "\n",
    "For example, $x_{2,1}$ is the decision variable associated with assigning the resource Joe to the job Tester. Therefore, decision variable $x_{r,j}$ equals 1 if resource $r \\in R$  is assigned to job $j \\in J$, and 0 otherwise.\n",
    "\n"
   ]
  },
  {
   "cell_type": "markdown",
   "metadata": {
    "id": "QbAe0ZaXqPTX"
   },
   "source": [
    "## Mathematical model\n",
    "### Job constraints\n",
    "\n",
    "These constraints need to ensure that each job is filled by exactly one resource.\n",
    "\n",
    "$$\n",
    "\\sum_{r \\in R} x_{r,j} = 1, j \\in J\n",
    "$$\n",
    "\n",
    "### Resource constraints\n",
    "\n",
    "The constraints for the resources need to ensure that at most one job is assigned to each resource. \n",
    "$$\n",
    "\\sum_{j \\in J} x_{r,j} =  1, r\\in R\n",
    "$$\n",
    "\n",
    "### Objective function\n",
    "\n",
    "The objective function is to maximize the total matching score of the assignments that satisfy the job and resource constraints. \n",
    "\n",
    "\\begin{equation}\n",
    "\\text{Maximize} \\quad \\sum_{j \\in J} \\sum_{r \\in R} s_{r,j}x_{r,j}.\n",
    "\\end{equation}\n",
    "\n"
   ]
  },
  {
   "cell_type": "markdown",
   "metadata": {
    "id": "qbGqoBvgqPTV"
   },
   "source": [
    "The following constructor creates an empty ``Model`` object “m”. We specify the model name by passing the string \"RAP\" as an argument. The ``Model`` object “m” holds a single optimization problem. It consists of a set of variables, a set of constraints, and the objective function."
   ]
  },
  {
   "cell_type": "code",
   "execution_count": 21,
   "metadata": {
    "colab": {
     "base_uri": "https://localhost:8080/"
    },
    "id": "tHFtko6bqPTW",
    "outputId": "2e9734ec-b556-4739-f086-5caf15ee1b65"
   },
   "outputs": [
    {
     "name": "stdout",
     "output_type": "stream",
     "text": [
      "Discarded solution information\n"
     ]
    }
   ],
   "source": [
    "# Declare and initialize model\n",
    "m = gp.Model('RAP')\n",
    "m.reset()"
   ]
  },
  {
   "cell_type": "markdown",
   "metadata": {},
   "source": [
    "The ``Model.addVars()`` method creates the decision variables for a ``Model`` object.\n",
    "This method returns a Gurobi ``tupledict`` object that contains the newly created variables. We supply the ``combinations`` object as the first argument to specify the variable indices. The ``name`` keyword is used to specify a name for the newly created decision variables. By default, variables are assumed to be non-negative."
   ]
  },
  {
   "cell_type": "code",
   "execution_count": 22,
   "metadata": {
    "id": "saG0C4hdqPTX"
   },
   "outputs": [],
   "source": [
    "# Create decision variables for the RAP model\n",
    "x = m.addVars(combinations, name=\"X\",  vtype=GRB.BINARY )"
   ]
  },
  {
   "cell_type": "markdown",
   "metadata": {},
   "source": [
    "The ``Model.addConstrs()`` method of the Gurobi/Python API defines the job constraints of the ``Model`` object “m”. This method returns a Gurobi ``tupledict`` object that contains the job constraints. \n",
    "The first argument of this method, \"x.sum(‘*’, j)\", is the sum method and defines the LHS of the jobs constraints as follows:\n",
    "For each job $j$ in the set of jobs $J$, take the summation of the decision variables over all the resources. The $==$  defines an equality constraint, and the number \"1\" is the RHS of the constraints.\n",
    "These constraints are saying that exactly one resource should be assigned to each job.\n",
    "The second argument is the name of this type of constraints.\n"
   ]
  },
  {
   "cell_type": "code",
   "execution_count": 23,
   "metadata": {
    "id": "OH-3LMclqPTY"
   },
   "outputs": [],
   "source": [
    "# Create job constraints\n",
    "jobs = m.addConstrs((x.sum('*',j) == 1 for j in J), name='job')"
   ]
  },
  {
   "cell_type": "code",
   "execution_count": 24,
   "metadata": {
    "id": "wpXCpDrXqPTY"
   },
   "outputs": [],
   "source": [
    "# Create resource constraints\n",
    "resources = m.addConstrs((x.sum(r,'*') == 1 for r in R), name='resource')"
   ]
  },
  {
   "cell_type": "code",
   "execution_count": 25,
   "metadata": {
    "id": "n2_EYr4FqPTb"
   },
   "outputs": [],
   "source": [
    "# Objective: maximize total matching score of all assignments\n",
    "m.setObjective(x.prod(scores), GRB.MAXIMIZE)"
   ]
  },
  {
   "cell_type": "markdown",
   "metadata": {
    "id": "nRtWl2GjqPTe"
   },
   "source": [
    "We use the “write()” method of the Gurobi/Python API to write the model formulation to a file named \"RAP.lp\"."
   ]
  },
  {
   "cell_type": "code",
   "execution_count": 26,
   "metadata": {
    "id": "aFPWT03xqPTe"
   },
   "outputs": [],
   "source": [
    "# Save model for inspection\n",
    "m.write('RAP.lp')"
   ]
  },
  {
   "cell_type": "markdown",
   "metadata": {
    "id": "-E0UxKYaqPTe"
   },
   "source": [
    "![RAP](https://github.com/Gurobi/modeling-examples/blob/master/intro_to_modeling/RAP_lp.PNG?raw=1)"
   ]
  },
  {
   "cell_type": "markdown",
   "metadata": {
    "id": "gypfmw0bqPTe"
   },
   "source": [
    "We use the “optimize( )” method of the Gurobi/Python API to solve the problem we have defined for the model object “m”."
   ]
  },
  {
   "cell_type": "code",
   "execution_count": 27,
   "metadata": {
    "colab": {
     "base_uri": "https://localhost:8080/"
    },
    "id": "9GR_Ry-LqPTe",
    "outputId": "fa651b62-02d9-4372-f172-a84d040606e0",
    "scrolled": true
   },
   "outputs": [
    {
     "name": "stdout",
     "output_type": "stream",
     "text": [
      "Gurobi Optimizer version 10.0.1 build v10.0.1rc0 (win64)\n",
      "\n",
      "CPU model: Intel(R) Core(TM) i5-7200U CPU @ 2.50GHz, instruction set [SSE2|AVX|AVX2]\n",
      "Thread count: 2 physical cores, 4 logical processors, using up to 4 threads\n",
      "\n",
      "Optimize a model with 6 rows, 9 columns and 18 nonzeros\n",
      "Model fingerprint: 0x4ea0ed40\n",
      "Variable types: 0 continuous, 9 integer (9 binary)\n",
      "Coefficient statistics:\n",
      "  Matrix range     [1e+00, 1e+00]\n",
      "  Objective range  [1e+01, 8e+01]\n",
      "  Bounds range     [1e+00, 1e+00]\n",
      "  RHS range        [1e+00, 1e+00]\n",
      "Presolve time: 0.02s\n",
      "Presolved: 6 rows, 9 columns, 18 nonzeros\n",
      "Variable types: 0 continuous, 9 integer (9 binary)\n",
      "Found heuristic solution: objective 113.0000000\n",
      "Found heuristic solution: objective 147.0000000\n",
      "\n",
      "Root relaxation: objective 1.930000e+02, 6 iterations, 0.01 seconds (0.00 work units)\n",
      "\n",
      "    Nodes    |    Current Node    |     Objective Bounds      |     Work\n",
      " Expl Unexpl |  Obj  Depth IntInf | Incumbent    BestBd   Gap | It/Node Time\n",
      "\n",
      "*    0     0               0     193.0000000  193.00000  0.00%     -    0s\n",
      "\n",
      "Explored 1 nodes (6 simplex iterations) in 0.08 seconds (0.00 work units)\n",
      "Thread count was 4 (of 4 available processors)\n",
      "\n",
      "Solution count 3: 193 147 113 \n",
      "\n",
      "Optimal solution found (tolerance 1.00e-04)\n",
      "Best objective 1.930000000000e+02, best bound 1.930000000000e+02, gap 0.0000%\n"
     ]
    }
   ],
   "source": [
    "# Run optimization engine\n",
    "m.optimize()"
   ]
  },
  {
   "cell_type": "markdown",
   "metadata": {
    "id": "v7a7m3TtqPTf"
   },
   "source": [
    "The ``Model.getVars()`` method of the Gurobi/Python API \n",
    "retrieves a list of all variables in the Model object “m”. The ``.x`` variable attribute is used to query solution values and the ``.varName`` attribute is used to query the name of the decision variables.  "
   ]
  },
  {
   "cell_type": "code",
   "execution_count": 28,
   "metadata": {
    "colab": {
     "base_uri": "https://localhost:8080/"
    },
    "id": "yoDiB_APqPTf",
    "outputId": "7ccefa55-820b-433e-ff41-238ad02eee9d"
   },
   "outputs": [
    {
     "name": "stdout",
     "output_type": "stream",
     "text": [
      "X[Carlos,Tester] 1.0\n",
      "X[Joe,Architect] 1.0\n",
      "X[Monika,JavaDeveloper] 1.0\n",
      "Total matching score:  193.0\n"
     ]
    }
   ],
   "source": [
    "# Display optimal values of decision variables\n",
    "for v in m.getVars():\n",
    "    if v.x > 1e-6:\n",
    "        print(v.varName, v.x)\n",
    "\n",
    "# Display optimal total matching score\n",
    "print('Total matching score: ', m.objVal)"
   ]
  },
  {
   "cell_type": "markdown",
   "metadata": {
    "id": "2fCloEtTqPTf"
   },
   "source": [
    "The optimal assignment is to assign:\n",
    "\n",
    "* Carlos to the Tester job, with a matching score of 53\n",
    "* Joe to the Architect job, with a matching score of 67\n",
    "* Monika to the Java Developer job, with a matching score of 73.\n",
    "\n",
    "The maximum total matching score is 193."
   ]
  },
  {
   "cell_type": "markdown",
   "metadata": {
    "id": "y9MtJCbIqPTf"
   },
   "source": [
    "## Resource Assignment Problem with a budget constraint\n",
    "\n",
    "Now, assume there is a fixed cost $C_{r,j}$ associated with assigning a resource $r \\in R$ to job $j \\in J$. Assume also that there is a limited budget $B$ that can be used for job assignments.\n",
    "\n",
    "The cost of assigning Carlos, Joe, or Monika to any of the jobs is $\\$1,000$ , $\\$2,000$ , and $\\$3,000$  respectively. The available budget is $\\$5,000$."
   ]
  },
  {
   "cell_type": "markdown",
   "metadata": {
    "id": "ALNZuQeGqPTg"
   },
   "source": [
    "### Data\n",
    "\n",
    "The list $R$ contains the names of the three resources: Carlos, Joe, and Monika.\n",
    "The list $J$ contains the names of the job positions: Tester, Java Developer, and Architect.\n",
    "\n",
    "The Gurobi Python ``multidict`` function initialize two dictionaries: \n",
    "* \"scores\" defines the matching scores for each resource and job combination.\n",
    "* \"costs\" defines the fixed cost associated of assigning a resource to a job.\n",
    "\n"
   ]
  },
  {
   "cell_type": "code",
   "execution_count": null,
   "metadata": {
    "id": "Dc9FyChfqPTg"
   },
   "outputs": [],
   "source": [
    "# Resource and job sets\n",
    "R = ['Carlos', 'Joe', 'Monika']\n",
    "J = ['Tester', 'JavaDeveloper', 'Architect']\n",
    "\n",
    "# Matching score data\n",
    "# Cost is given in thousands of dollars\n",
    "combinations, scores, costs = gp.multidict({\n",
    "    ('Carlos', 'Tester'): [53, 1],\n",
    "    ('Carlos', 'JavaDeveloper'): [27, 1],\n",
    "    ('Carlos', 'Architect'): [13,1],\n",
    "    ('Joe', 'Tester'): [80, 2],\n",
    "    ('Joe', 'JavaDeveloper'): [47, 2],\n",
    "    ('Joe', 'Architect'): [67, 2],\n",
    "    ('Monika', 'Tester'): [53, 3] ,\n",
    "    ('Monika', 'JavaDeveloper'): [73, 3],\n",
    "    ('Monika', 'Architect'): [47, 3]\n",
    "})\n",
    "\n",
    "# Available budget (thousands of dollars)\n",
    "budget = 5"
   ]
  },
  {
   "cell_type": "markdown",
   "metadata": {
    "id": "HnwN4roSqPTg"
   },
   "source": [
    "The following constructor creates an empty ``Model`` object “m”. The ``Model`` object “m” holds a single optimization problem. It consists of a set of variables, a set of constraints, and the objective function."
   ]
  },
  {
   "cell_type": "code",
   "execution_count": null,
   "metadata": {
    "id": "3PzxNyOqqPTg"
   },
   "outputs": [],
   "source": [
    "# Declare and initialize model\n",
    "m = gp.Model('RAP2')"
   ]
  },
  {
   "cell_type": "markdown",
   "metadata": {
    "id": "70ZCLhiRqPTg"
   },
   "source": [
    "### Decision variables\n",
    "\n",
    "The decision variable $x_{r,j}$ is 1 if $r \\in R$ is assigned to job $j \\in J$, and 0 otherwise.\n",
    "\n",
    "The ``Model.addVars()`` method defines the decision variables for the model object “m”.  \n",
    "\n",
    "Because there is a budget constraint, it is possible that not all of the jobs will be filled. To account for this, we define a new decision variable that indicates whether or not a job is filled.\n",
    "\n",
    "Let $g_{j}$ be equal 1 if job $j \\in J$ is not filled, and 0 otherwise. This variable is a gap variable that indicates that a job cannot be filled.\n",
    "\n",
    "***Remark:*** For the previous formulation of the RAP, we defined the assignment variables as non-negative and continuous which is the default value of the ``vtype`` argument of the ``Model.addVars()`` method.\n",
    "However, in this extension of the RAP, because of the budget constraint we added to the model, we need to explicitly define these variables as binary. The ``vtype=GRB.BINARY`` argument of the ``Model.addVars()`` method defines the assignment variables as binary."
   ]
  },
  {
   "cell_type": "code",
   "execution_count": null,
   "metadata": {
    "id": "l9yBhVfQqPTg"
   },
   "outputs": [],
   "source": [
    "# Create decision variables for the RAP model\n",
    "x = m.addVars(combinations, vtype=GRB.BINARY, name=\"assign\")\n",
    "\n",
    "# Create gap variables for the RAP model\n",
    "g = m.addVars(J, name=\"gap\")"
   ]
  },
  {
   "cell_type": "markdown",
   "metadata": {
    "id": "t3DpjDdEqPTh"
   },
   "source": [
    "### Job constraints\n",
    "\n",
    "Since we have a limited budget to assign resources to jobs, it is possible that not all the jobs can be filled. For the job constraints, there are two possibilities either a resource is assigned to fill the job, or this job cannot be filled and we need to declare a gap. This latter possibility is captured by the decision variable $g_j$. Therefore, the job constraints are written as follows. \n",
    "\n",
    "For each job $j \\in J$, exactly one resource must be assigned to the job, or the corresponding $g_j$ variable must be set to 1:\n",
    "\n",
    "$$\n",
    "\\sum_{r \\: \\in \\: R} x_{r,\\; j} + g_{j} = 1.\n",
    "$$\n"
   ]
  },
  {
   "cell_type": "code",
   "execution_count": null,
   "metadata": {
    "id": "USb0bLFrqPTh"
   },
   "outputs": [],
   "source": [
    "# Create job constraints\n",
    "jobs = m.addConstrs((x.sum('*',j) + g[j]  == 1 for j in J), name='job')"
   ]
  },
  {
   "cell_type": "markdown",
   "metadata": {
    "id": "8kbGoX4mqPTh"
   },
   "source": [
    "### Resource constraints\n",
    "\n",
    "The constraints for the resources need to ensure that at most one job is assigned to each resource. That is, it is possible that not all the resources are assigned. Therefore, the resource constraints are written as follows.\n",
    "\n",
    "For each resource $r \\in R$, at most one job can be assigned to the resource:\n",
    "\n",
    "$$\n",
    "\\sum_{j \\: \\in \\: J} x_{r,\\; j} \\leq 1.\n",
    "$$"
   ]
  },
  {
   "cell_type": "code",
   "execution_count": null,
   "metadata": {
    "id": "XYp4OXlpqPTh"
   },
   "outputs": [],
   "source": [
    "# Create resource constraints\n",
    "resources = m.addConstrs((x.sum(r,'*') <= 1 for r in R), name='resource')"
   ]
  },
  {
   "cell_type": "markdown",
   "metadata": {
    "id": "tSBjwzM8qPTh"
   },
   "source": [
    "### Budget constraint\n",
    "\n",
    "This constraint ensures that the cost of assigning resources to fill job requirements do not exceed the budget available. The costs of assignment and budget are in thousands of dollars.\n",
    "\n",
    "\n",
    "\n",
    "\\begin{equation}\n",
    "\\sum_{j \\in J} \\sum_{r \\in R} C_{r,j}x_{r,j} \\leq B.\n",
    "\\end{equation}\n",
    "\n",
    "The ``Model.addConstr()`` method of the Gurobi/Python API defines the budget constraint of the ``Model`` object “m”. \n",
    "The first argument of this method, \"x.prod(costs)\", is the prod method and defines the LHS of the budget constraint. The $<=$ defines a less or equal constraint, and the budget amount available is the RHS of the constraint.\n",
    "This constraint is saying that the total cost of assigning resources to fill jobs requirements cannot exceed the budget available.\n",
    "The second argument is the name of this constraint."
   ]
  },
  {
   "cell_type": "code",
   "execution_count": null,
   "metadata": {
    "id": "gyXamhaNqPTh"
   },
   "outputs": [],
   "source": [
    "budget = m.addConstr((x.prod(costs) <= budget), name='budget')"
   ]
  },
  {
   "cell_type": "markdown",
   "metadata": {
    "id": "zG9B9O0UqPTh"
   },
   "source": [
    "## Objective function\n",
    "\n",
    "The objective function is similar to the RAP. The first term in the objective is the total matching score of the assignments. In this extension of the RAP, it is possible that not all jobs are filled; however, we want to heavily penalize this possibility. For this purpose, we have a second term in the objective function that takes the summation of the gap variables over all the jobs and multiply it by a big penalty $M$.\n",
    "\n",
    "Observe that the maximum value of a matching score is 100, and the value that we give to $M$ is 101. The rationale behind the value of $M$ is that having gaps heavily deteriorates the total matching scores value.\n",
    "\n",
    "Consequently, the objective function is to maximize the total matching score of the assignments minus the penalty associated of having gap variables with a value equal to 1.\n",
    "\n",
    "$$\n",
    "\\max \\; \\sum_{j \\; \\in \\; J} \\sum_{r \\; \\in \\; R} s_{r,j}x_{r,j} -M \\sum_{j \\in J} g_{j}\n",
    "$$"
   ]
  },
  {
   "cell_type": "code",
   "execution_count": null,
   "metadata": {
    "id": "bKvy6GIQqPTi"
   },
   "outputs": [],
   "source": [
    "# Penalty for not filling a job position\n",
    "M = 101"
   ]
  },
  {
   "cell_type": "code",
   "execution_count": null,
   "metadata": {
    "id": "zHulvFpTqPTi"
   },
   "outputs": [],
   "source": [
    "# Objective: maximize total matching score of assignments\n",
    "# Unfilled jobs are heavily penalized\n",
    "m.setObjective(x.prod(scores) - M*g.sum(), GRB.MAXIMIZE)"
   ]
  },
  {
   "cell_type": "code",
   "execution_count": null,
   "metadata": {
    "colab": {
     "base_uri": "https://localhost:8080/"
    },
    "id": "Uhi4mAHCqPTi",
    "outputId": "c73117c3-d2e3-4698-9b86-c0057d7bc6a5",
    "scrolled": true
   },
   "outputs": [],
   "source": [
    "# Run optimization engine\n",
    "m.optimize()"
   ]
  },
  {
   "cell_type": "markdown",
   "metadata": {
    "id": "Q41US0hcqPTi"
   },
   "source": [
    "The definition of the objective function includes the penalty of no filling jobs. However, we are interested in the optimal total matching score value when not all the jobs are filled. For this purpose, we need to compute the total matching score value using the matching score values $s_{r,j}$ and the assignment decision variables $x_{r,j}$."
   ]
  },
  {
   "cell_type": "code",
   "execution_count": null,
   "metadata": {
    "colab": {
     "base_uri": "https://localhost:8080/"
    },
    "id": "-b-L-BtYqPTi",
    "outputId": "ae369303-1105-4a79-a756-afd704de29b8"
   },
   "outputs": [],
   "source": [
    "# Compute total matching score from assignment variables\n",
    "total_matching_score = 0\n",
    "for r, j in combinations:\n",
    "    if x[r, j].x > 1e-6:\n",
    "        print(x[r, j].varName, x[r, j].x) \n",
    "        total_matching_score += scores[r, j]*x[r, j].x\n",
    "\n",
    "print('Total matching score: ', total_matching_score)  "
   ]
  },
  {
   "cell_type": "markdown",
   "metadata": {
    "id": "07EzjgQ0qPTj"
   },
   "source": [
    "### Analysis"
   ]
  },
  {
   "cell_type": "markdown",
   "metadata": {
    "id": "0_J1mWoeqPTj"
   },
   "source": [
    "Recall that the budget is $\\$5,000$, and the total  cost associated of allocating the three resources is $\\$6,000$. This means that there is not enough budget to allocate the three resources we have. Consequently, the Gurobi Optimizer must choose two resources to fill the jobs demand, leave one job unfilled, and maximize the total matching scores. Notice that the two top matching scores are 80% (Joe for the Tester job) and 73% (Monika for the Java Developer job). Also, notice that the lowest score is 13% (Carlos for the Architect job). Assigning Joe to the Tester job, Monika to the Java Developer job, and nobody to the Architect job costs $\\$5,000$  and yields a total matching score of 153. This is the optimal solution found by the Gurobi Optimizer."
   ]
  },
  {
   "cell_type": "markdown",
   "metadata": {
    "id": "vCRIYiJaqPTj"
   },
   "source": [
    "Copyright © 2020 Gurobi Optimization, LLC"
   ]
  }
 ],
 "metadata": {
  "celltoolbar": "Raw Cell Format",
  "colab": {
   "collapsed_sections": [],
   "name": "Introduction_to_modeling.ipynb",
   "provenance": []
  },
  "kernelspec": {
   "display_name": "algoritmi-ottimizzazione-5370Ge9W",
   "language": "python",
   "name": "python3"
  },
  "language_info": {
   "codemirror_mode": {
    "name": "ipython",
    "version": 3
   },
   "file_extension": ".py",
   "mimetype": "text/x-python",
   "name": "python",
   "nbconvert_exporter": "python",
   "pygments_lexer": "ipython3",
   "version": "3.11.2"
  }
 },
 "nbformat": 4,
 "nbformat_minor": 1
}
